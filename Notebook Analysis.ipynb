{
 "cells": [
  {
   "cell_type": "markdown",
   "metadata": {},
   "source": [
    "# Final Project Data Analysis"
   ]
  },
  {
   "cell_type": "code",
   "execution_count": 1,
   "metadata": {},
   "outputs": [
    {
     "data": {
      "text/plain": [
       "(3540, 6)"
      ]
     },
     "execution_count": 1,
     "metadata": {},
     "output_type": "execute_result"
    }
   ],
   "source": [
    "import pandas as pd\n",
    "import matplotlib.pyplot as plt\n",
    "import numpy as np\n",
    "\n",
    "data = pd.read_csv('dso499_final_project.csv')\n",
    "data.head()\n",
    "data.shape"
   ]
  },
  {
   "cell_type": "markdown",
   "metadata": {},
   "source": [
    "## Let's set \"the number of initially infected people\" as new index"
   ]
  },
  {
   "cell_type": "code",
   "execution_count": 2,
   "metadata": {},
   "outputs": [
    {
     "data": {
      "text/html": [
       "<div>\n",
       "<style scoped>\n",
       "    .dataframe tbody tr th:only-of-type {\n",
       "        vertical-align: middle;\n",
       "    }\n",
       "\n",
       "    .dataframe tbody tr th {\n",
       "        vertical-align: top;\n",
       "    }\n",
       "\n",
       "    .dataframe thead th {\n",
       "        text-align: right;\n",
       "    }\n",
       "</style>\n",
       "<table border=\"1\" class=\"dataframe\">\n",
       "  <thead>\n",
       "    <tr style=\"text-align: right;\">\n",
       "      <th></th>\n",
       "      <th>maximum_hospitalized</th>\n",
       "      <th>effected_by_closure</th>\n",
       "      <th>number_recovered</th>\n",
       "      <th>closed_headcount</th>\n",
       "      <th>epidemic_duration</th>\n",
       "    </tr>\n",
       "    <tr>\n",
       "      <th>initial_infected</th>\n",
       "      <th></th>\n",
       "      <th></th>\n",
       "      <th></th>\n",
       "      <th></th>\n",
       "      <th></th>\n",
       "    </tr>\n",
       "  </thead>\n",
       "  <tbody>\n",
       "    <tr>\n",
       "      <th>2</th>\n",
       "      <td>2</td>\n",
       "      <td>4233</td>\n",
       "      <td>2</td>\n",
       "      <td>2</td>\n",
       "      <td>11</td>\n",
       "    </tr>\n",
       "    <tr>\n",
       "      <th>2</th>\n",
       "      <td>2</td>\n",
       "      <td>4233</td>\n",
       "      <td>2</td>\n",
       "      <td>2</td>\n",
       "      <td>11</td>\n",
       "    </tr>\n",
       "    <tr>\n",
       "      <th>2</th>\n",
       "      <td>2</td>\n",
       "      <td>4233</td>\n",
       "      <td>2</td>\n",
       "      <td>2</td>\n",
       "      <td>11</td>\n",
       "    </tr>\n",
       "    <tr>\n",
       "      <th>2</th>\n",
       "      <td>2</td>\n",
       "      <td>4233</td>\n",
       "      <td>2</td>\n",
       "      <td>2</td>\n",
       "      <td>11</td>\n",
       "    </tr>\n",
       "    <tr>\n",
       "      <th>2</th>\n",
       "      <td>2</td>\n",
       "      <td>4233</td>\n",
       "      <td>2</td>\n",
       "      <td>2</td>\n",
       "      <td>11</td>\n",
       "    </tr>\n",
       "  </tbody>\n",
       "</table>\n",
       "</div>"
      ],
      "text/plain": [
       "                  maximum_hospitalized  effected_by_closure  number_recovered  \\\n",
       "initial_infected                                                                \n",
       "2                                    2                 4233                 2   \n",
       "2                                    2                 4233                 2   \n",
       "2                                    2                 4233                 2   \n",
       "2                                    2                 4233                 2   \n",
       "2                                    2                 4233                 2   \n",
       "\n",
       "                  closed_headcount  epidemic_duration  \n",
       "initial_infected                                       \n",
       "2                                2                 11  \n",
       "2                                2                 11  \n",
       "2                                2                 11  \n",
       "2                                2                 11  \n",
       "2                                2                 11  "
      ]
     },
     "execution_count": 2,
     "metadata": {},
     "output_type": "execute_result"
    }
   ],
   "source": [
    "data = data.set_index('initial_infected')\n",
    "data.head(5)"
   ]
  },
  {
   "cell_type": "markdown",
   "metadata": {},
   "source": [
    "## Let's break down the dataframe into three different dataframes based on the index (initial_infected). Each represents its own scenario."
   ]
  },
  {
   "cell_type": "code",
   "execution_count": 3,
   "metadata": {},
   "outputs": [
    {
     "data": {
      "text/html": [
       "<div>\n",
       "<style scoped>\n",
       "    .dataframe tbody tr th:only-of-type {\n",
       "        vertical-align: middle;\n",
       "    }\n",
       "\n",
       "    .dataframe tbody tr th {\n",
       "        vertical-align: top;\n",
       "    }\n",
       "\n",
       "    .dataframe thead th {\n",
       "        text-align: right;\n",
       "    }\n",
       "</style>\n",
       "<table border=\"1\" class=\"dataframe\">\n",
       "  <thead>\n",
       "    <tr style=\"text-align: right;\">\n",
       "      <th></th>\n",
       "      <th>maximum_hospitalized</th>\n",
       "      <th>effected_by_closure</th>\n",
       "      <th>number_recovered</th>\n",
       "      <th>closed_headcount</th>\n",
       "      <th>epidemic_duration</th>\n",
       "    </tr>\n",
       "    <tr>\n",
       "      <th>initial_infected</th>\n",
       "      <th></th>\n",
       "      <th></th>\n",
       "      <th></th>\n",
       "      <th></th>\n",
       "      <th></th>\n",
       "    </tr>\n",
       "  </thead>\n",
       "  <tbody>\n",
       "    <tr>\n",
       "      <th>20</th>\n",
       "      <td>20</td>\n",
       "      <td>4233</td>\n",
       "      <td>20</td>\n",
       "      <td>2</td>\n",
       "      <td>11</td>\n",
       "    </tr>\n",
       "    <tr>\n",
       "      <th>20</th>\n",
       "      <td>20</td>\n",
       "      <td>4233</td>\n",
       "      <td>20</td>\n",
       "      <td>2</td>\n",
       "      <td>11</td>\n",
       "    </tr>\n",
       "    <tr>\n",
       "      <th>20</th>\n",
       "      <td>20</td>\n",
       "      <td>4233</td>\n",
       "      <td>20</td>\n",
       "      <td>2</td>\n",
       "      <td>11</td>\n",
       "    </tr>\n",
       "    <tr>\n",
       "      <th>20</th>\n",
       "      <td>20</td>\n",
       "      <td>4233</td>\n",
       "      <td>20</td>\n",
       "      <td>2</td>\n",
       "      <td>11</td>\n",
       "    </tr>\n",
       "    <tr>\n",
       "      <th>20</th>\n",
       "      <td>20</td>\n",
       "      <td>4233</td>\n",
       "      <td>20</td>\n",
       "      <td>2</td>\n",
       "      <td>11</td>\n",
       "    </tr>\n",
       "  </tbody>\n",
       "</table>\n",
       "</div>"
      ],
      "text/plain": [
       "                  maximum_hospitalized  effected_by_closure  number_recovered  \\\n",
       "initial_infected                                                                \n",
       "20                                  20                 4233                20   \n",
       "20                                  20                 4233                20   \n",
       "20                                  20                 4233                20   \n",
       "20                                  20                 4233                20   \n",
       "20                                  20                 4233                20   \n",
       "\n",
       "                  closed_headcount  epidemic_duration  \n",
       "initial_infected                                       \n",
       "20                               2                 11  \n",
       "20                               2                 11  \n",
       "20                               2                 11  \n",
       "20                               2                 11  \n",
       "20                               2                 11  "
      ]
     },
     "execution_count": 3,
     "metadata": {},
     "output_type": "execute_result"
    }
   ],
   "source": [
    "two_initial = data.loc[2]\n",
    "twenty_initial = data.loc[20]\n",
    "forty_initial = data.loc[40]\n",
    "\n",
    "twenty_initial.head()"
   ]
  },
  {
   "cell_type": "markdown",
   "metadata": {},
   "source": [
    "## Since this is raw data, we should group by \"closed_headcount\" then get the average of each variable."
   ]
  },
  {
   "cell_type": "code",
   "execution_count": 4,
   "metadata": {},
   "outputs": [
    {
     "data": {
      "text/html": [
       "<div>\n",
       "<style scoped>\n",
       "    .dataframe tbody tr th:only-of-type {\n",
       "        vertical-align: middle;\n",
       "    }\n",
       "\n",
       "    .dataframe tbody tr th {\n",
       "        vertical-align: top;\n",
       "    }\n",
       "\n",
       "    .dataframe thead th {\n",
       "        text-align: right;\n",
       "    }\n",
       "</style>\n",
       "<table border=\"1\" class=\"dataframe\">\n",
       "  <thead>\n",
       "    <tr style=\"text-align: right;\">\n",
       "      <th></th>\n",
       "      <th>maximum_hospitalized</th>\n",
       "      <th>effected_by_closure</th>\n",
       "      <th>number_recovered</th>\n",
       "      <th>epidemic_duration</th>\n",
       "    </tr>\n",
       "    <tr>\n",
       "      <th>closed_headcount</th>\n",
       "      <th></th>\n",
       "      <th></th>\n",
       "      <th></th>\n",
       "      <th></th>\n",
       "    </tr>\n",
       "  </thead>\n",
       "  <tbody>\n",
       "    <tr>\n",
       "      <th>2</th>\n",
       "      <td>20.0</td>\n",
       "      <td>4233.0</td>\n",
       "      <td>20.0</td>\n",
       "      <td>11.0</td>\n",
       "    </tr>\n",
       "    <tr>\n",
       "      <th>3</th>\n",
       "      <td>20.1</td>\n",
       "      <td>4205.8</td>\n",
       "      <td>20.2</td>\n",
       "      <td>11.6</td>\n",
       "    </tr>\n",
       "    <tr>\n",
       "      <th>4</th>\n",
       "      <td>20.2</td>\n",
       "      <td>4185.2</td>\n",
       "      <td>20.4</td>\n",
       "      <td>12.2</td>\n",
       "    </tr>\n",
       "    <tr>\n",
       "      <th>5</th>\n",
       "      <td>22.1</td>\n",
       "      <td>4137.9</td>\n",
       "      <td>24.9</td>\n",
       "      <td>16.9</td>\n",
       "    </tr>\n",
       "    <tr>\n",
       "      <th>6</th>\n",
       "      <td>23.1</td>\n",
       "      <td>4097.4</td>\n",
       "      <td>26.2</td>\n",
       "      <td>16.0</td>\n",
       "    </tr>\n",
       "  </tbody>\n",
       "</table>\n",
       "</div>"
      ],
      "text/plain": [
       "                  maximum_hospitalized  effected_by_closure  number_recovered  \\\n",
       "closed_headcount                                                                \n",
       "2                                 20.0               4233.0              20.0   \n",
       "3                                 20.1               4205.8              20.2   \n",
       "4                                 20.2               4185.2              20.4   \n",
       "5                                 22.1               4137.9              24.9   \n",
       "6                                 23.1               4097.4              26.2   \n",
       "\n",
       "                  epidemic_duration  \n",
       "closed_headcount                     \n",
       "2                              11.0  \n",
       "3                              11.6  \n",
       "4                              12.2  \n",
       "5                              16.9  \n",
       "6                              16.0  "
      ]
     },
     "execution_count": 4,
     "metadata": {},
     "output_type": "execute_result"
    }
   ],
   "source": [
    "two_initial = two_initial.groupby('closed_headcount')\\\n",
    "    [['maximum_hospitalized', 'effected_by_closure', 'number_recovered', 'epidemic_duration']].mean()\n",
    "twenty_initial = twenty_initial.groupby('closed_headcount')\\\n",
    "    [['maximum_hospitalized', 'effected_by_closure', 'number_recovered', 'epidemic_duration']].mean()\n",
    "forty_initial = forty_initial.groupby('closed_headcount')\\\n",
    "    [['maximum_hospitalized', 'effected_by_closure', 'number_recovered', 'epidemic_duration']].mean()\n",
    "\n",
    "twenty_initial.head()"
   ]
  },
  {
   "cell_type": "markdown",
   "metadata": {},
   "source": [
    "## Now we sift the dataframes by eliminating rows whose average number of maximum_hospitalized is over 50, so that the hospital capacity is accounted for in the scenarios."
   ]
  },
  {
   "cell_type": "code",
   "execution_count": 5,
   "metadata": {},
   "outputs": [],
   "source": [
    "two_initial_max50 = two_initial[two_initial.maximum_hospitalized <= 50]\n",
    "twenty_initial_max50 = twenty_initial[twenty_initial.maximum_hospitalized <= 50]\n",
    "forty_initial_max50 = forty_initial[forty_initial.maximum_hospitalized <= 50]"
   ]
  },
  {
   "cell_type": "code",
   "execution_count": 6,
   "metadata": {},
   "outputs": [
    {
     "data": {
      "text/html": [
       "<div>\n",
       "<style scoped>\n",
       "    .dataframe tbody tr th:only-of-type {\n",
       "        vertical-align: middle;\n",
       "    }\n",
       "\n",
       "    .dataframe tbody tr th {\n",
       "        vertical-align: top;\n",
       "    }\n",
       "\n",
       "    .dataframe thead th {\n",
       "        text-align: right;\n",
       "    }\n",
       "</style>\n",
       "<table border=\"1\" class=\"dataframe\">\n",
       "  <thead>\n",
       "    <tr style=\"text-align: right;\">\n",
       "      <th></th>\n",
       "      <th>maximum_hospitalized</th>\n",
       "      <th>effected_by_closure</th>\n",
       "      <th>number_recovered</th>\n",
       "      <th>epidemic_duration</th>\n",
       "    </tr>\n",
       "    <tr>\n",
       "      <th>closed_headcount</th>\n",
       "      <th></th>\n",
       "      <th></th>\n",
       "      <th></th>\n",
       "      <th></th>\n",
       "    </tr>\n",
       "  </thead>\n",
       "  <tbody>\n",
       "    <tr>\n",
       "      <th>2</th>\n",
       "      <td>2.0</td>\n",
       "      <td>4233.0</td>\n",
       "      <td>2.0</td>\n",
       "      <td>11.0</td>\n",
       "    </tr>\n",
       "    <tr>\n",
       "      <th>3</th>\n",
       "      <td>2.0</td>\n",
       "      <td>4205.0</td>\n",
       "      <td>2.0</td>\n",
       "      <td>11.0</td>\n",
       "    </tr>\n",
       "    <tr>\n",
       "      <th>4</th>\n",
       "      <td>2.1</td>\n",
       "      <td>4184.5</td>\n",
       "      <td>2.1</td>\n",
       "      <td>11.3</td>\n",
       "    </tr>\n",
       "    <tr>\n",
       "      <th>5</th>\n",
       "      <td>2.1</td>\n",
       "      <td>4128.4</td>\n",
       "      <td>2.2</td>\n",
       "      <td>11.4</td>\n",
       "    </tr>\n",
       "    <tr>\n",
       "      <th>6</th>\n",
       "      <td>2.5</td>\n",
       "      <td>4084.0</td>\n",
       "      <td>2.6</td>\n",
       "      <td>11.9</td>\n",
       "    </tr>\n",
       "  </tbody>\n",
       "</table>\n",
       "</div>"
      ],
      "text/plain": [
       "                  maximum_hospitalized  effected_by_closure  number_recovered  \\\n",
       "closed_headcount                                                                \n",
       "2                                  2.0               4233.0               2.0   \n",
       "3                                  2.0               4205.0               2.0   \n",
       "4                                  2.1               4184.5               2.1   \n",
       "5                                  2.1               4128.4               2.2   \n",
       "6                                  2.5               4084.0               2.6   \n",
       "\n",
       "                  epidemic_duration  \n",
       "closed_headcount                     \n",
       "2                              11.0  \n",
       "3                              11.0  \n",
       "4                              11.3  \n",
       "5                              11.4  \n",
       "6                              11.9  "
      ]
     },
     "execution_count": 6,
     "metadata": {},
     "output_type": "execute_result"
    }
   ],
   "source": [
    "two_initial_max50.head()"
   ]
  },
  {
   "cell_type": "code",
   "execution_count": 7,
   "metadata": {},
   "outputs": [
    {
     "data": {
      "text/html": [
       "<div>\n",
       "<style scoped>\n",
       "    .dataframe tbody tr th:only-of-type {\n",
       "        vertical-align: middle;\n",
       "    }\n",
       "\n",
       "    .dataframe tbody tr th {\n",
       "        vertical-align: top;\n",
       "    }\n",
       "\n",
       "    .dataframe thead th {\n",
       "        text-align: right;\n",
       "    }\n",
       "</style>\n",
       "<table border=\"1\" class=\"dataframe\">\n",
       "  <thead>\n",
       "    <tr style=\"text-align: right;\">\n",
       "      <th></th>\n",
       "      <th>maximum_hospitalized</th>\n",
       "      <th>effected_by_closure</th>\n",
       "      <th>number_recovered</th>\n",
       "      <th>epidemic_duration</th>\n",
       "    </tr>\n",
       "    <tr>\n",
       "      <th>closed_headcount</th>\n",
       "      <th></th>\n",
       "      <th></th>\n",
       "      <th></th>\n",
       "      <th></th>\n",
       "    </tr>\n",
       "  </thead>\n",
       "  <tbody>\n",
       "    <tr>\n",
       "      <th>2</th>\n",
       "      <td>20.0</td>\n",
       "      <td>4233.0</td>\n",
       "      <td>20.0</td>\n",
       "      <td>11.0</td>\n",
       "    </tr>\n",
       "    <tr>\n",
       "      <th>3</th>\n",
       "      <td>20.1</td>\n",
       "      <td>4205.8</td>\n",
       "      <td>20.2</td>\n",
       "      <td>11.6</td>\n",
       "    </tr>\n",
       "    <tr>\n",
       "      <th>4</th>\n",
       "      <td>20.2</td>\n",
       "      <td>4185.2</td>\n",
       "      <td>20.4</td>\n",
       "      <td>12.2</td>\n",
       "    </tr>\n",
       "    <tr>\n",
       "      <th>5</th>\n",
       "      <td>22.1</td>\n",
       "      <td>4137.9</td>\n",
       "      <td>24.9</td>\n",
       "      <td>16.9</td>\n",
       "    </tr>\n",
       "    <tr>\n",
       "      <th>6</th>\n",
       "      <td>23.1</td>\n",
       "      <td>4097.4</td>\n",
       "      <td>26.2</td>\n",
       "      <td>16.0</td>\n",
       "    </tr>\n",
       "  </tbody>\n",
       "</table>\n",
       "</div>"
      ],
      "text/plain": [
       "                  maximum_hospitalized  effected_by_closure  number_recovered  \\\n",
       "closed_headcount                                                                \n",
       "2                                 20.0               4233.0              20.0   \n",
       "3                                 20.1               4205.8              20.2   \n",
       "4                                 20.2               4185.2              20.4   \n",
       "5                                 22.1               4137.9              24.9   \n",
       "6                                 23.1               4097.4              26.2   \n",
       "\n",
       "                  epidemic_duration  \n",
       "closed_headcount                     \n",
       "2                              11.0  \n",
       "3                              11.6  \n",
       "4                              12.2  \n",
       "5                              16.9  \n",
       "6                              16.0  "
      ]
     },
     "execution_count": 7,
     "metadata": {},
     "output_type": "execute_result"
    }
   ],
   "source": [
    "twenty_initial_max50.head()"
   ]
  },
  {
   "cell_type": "code",
   "execution_count": 8,
   "metadata": {},
   "outputs": [
    {
     "data": {
      "text/html": [
       "<div>\n",
       "<style scoped>\n",
       "    .dataframe tbody tr th:only-of-type {\n",
       "        vertical-align: middle;\n",
       "    }\n",
       "\n",
       "    .dataframe tbody tr th {\n",
       "        vertical-align: top;\n",
       "    }\n",
       "\n",
       "    .dataframe thead th {\n",
       "        text-align: right;\n",
       "    }\n",
       "</style>\n",
       "<table border=\"1\" class=\"dataframe\">\n",
       "  <thead>\n",
       "    <tr style=\"text-align: right;\">\n",
       "      <th></th>\n",
       "      <th>maximum_hospitalized</th>\n",
       "      <th>effected_by_closure</th>\n",
       "      <th>number_recovered</th>\n",
       "      <th>epidemic_duration</th>\n",
       "    </tr>\n",
       "    <tr>\n",
       "      <th>closed_headcount</th>\n",
       "      <th></th>\n",
       "      <th></th>\n",
       "      <th></th>\n",
       "      <th></th>\n",
       "    </tr>\n",
       "  </thead>\n",
       "  <tbody>\n",
       "    <tr>\n",
       "      <th>2</th>\n",
       "      <td>40.0</td>\n",
       "      <td>4233.0</td>\n",
       "      <td>40.0</td>\n",
       "      <td>11.0</td>\n",
       "    </tr>\n",
       "    <tr>\n",
       "      <th>3</th>\n",
       "      <td>40.6</td>\n",
       "      <td>4207.4</td>\n",
       "      <td>40.8</td>\n",
       "      <td>12.4</td>\n",
       "    </tr>\n",
       "    <tr>\n",
       "      <th>4</th>\n",
       "      <td>40.5</td>\n",
       "      <td>4187.6</td>\n",
       "      <td>40.8</td>\n",
       "      <td>12.9</td>\n",
       "    </tr>\n",
       "    <tr>\n",
       "      <th>5</th>\n",
       "      <td>44.7</td>\n",
       "      <td>4145.7</td>\n",
       "      <td>47.8</td>\n",
       "      <td>17.0</td>\n",
       "    </tr>\n",
       "    <tr>\n",
       "      <th>6</th>\n",
       "      <td>45.5</td>\n",
       "      <td>4118.2</td>\n",
       "      <td>51.7</td>\n",
       "      <td>17.7</td>\n",
       "    </tr>\n",
       "  </tbody>\n",
       "</table>\n",
       "</div>"
      ],
      "text/plain": [
       "                  maximum_hospitalized  effected_by_closure  number_recovered  \\\n",
       "closed_headcount                                                                \n",
       "2                                 40.0               4233.0              40.0   \n",
       "3                                 40.6               4207.4              40.8   \n",
       "4                                 40.5               4187.6              40.8   \n",
       "5                                 44.7               4145.7              47.8   \n",
       "6                                 45.5               4118.2              51.7   \n",
       "\n",
       "                  epidemic_duration  \n",
       "closed_headcount                     \n",
       "2                              11.0  \n",
       "3                              12.4  \n",
       "4                              12.9  \n",
       "5                              17.0  \n",
       "6                              17.7  "
      ]
     },
     "execution_count": 8,
     "metadata": {},
     "output_type": "execute_result"
    }
   ],
   "source": [
    "forty_initial_max50.head()"
   ]
  },
  {
   "cell_type": "markdown",
   "metadata": {},
   "source": [
    "## With the dataframes ready, we can easily compute the largest \"X\" for each of the scenarios\n",
    "## = the headcount level that society can tolerate up to"
   ]
  },
  {
   "cell_type": "code",
   "execution_count": 9,
   "metadata": {},
   "outputs": [
    {
     "name": "stdout",
     "output_type": "stream",
     "text": [
      "Initial Infected = 2\n",
      "Head Count \"X\" = 46\n",
      "Peak Hospitalized = 48.4\n",
      "Number Recovered = 159.4\n"
     ]
    }
   ],
   "source": [
    "print(\"Initial Infected = 2\")\n",
    "print(\"Head Count \\\"X\\\" =\", two_initial_max50.index.max())\n",
    "print(\"Peak Hospitalized =\", two_initial_max50[\"maximum_hospitalized\"].max())\n",
    "print(\"Number Recovered =\", two_initial_max50[\"number_recovered\"].max())\n"
   ]
  },
  {
   "cell_type": "code",
   "execution_count": 10,
   "metadata": {},
   "outputs": [
    {
     "name": "stdout",
     "output_type": "stream",
     "text": [
      "Initial Infected = 20\n",
      "Head Count \"X\" = 17\n",
      "Peak Hospitalized = 49.0\n",
      "Number Recovered = 84.9\n"
     ]
    }
   ],
   "source": [
    "print(\"Initial Infected = 20\")\n",
    "print(\"Head Count \\\"X\\\" =\", twenty_initial_max50.index.max())\n",
    "print(\"Peak Hospitalized =\", twenty_initial_max50[\"maximum_hospitalized\"].max())\n",
    "print(\"Number Recovered =\", twenty_initial_max50[\"number_recovered\"].max())"
   ]
  },
  {
   "cell_type": "code",
   "execution_count": 11,
   "metadata": {},
   "outputs": [
    {
     "name": "stdout",
     "output_type": "stream",
     "text": [
      "Initial Infected = 40\n",
      "Head Count \"X\" = 7\n",
      "Peak Hospitalized = 46.2\n",
      "Number Recovered = 52.4\n"
     ]
    }
   ],
   "source": [
    "print(\"Initial Infected = 40\")\n",
    "print(\"Head Count \\\"X\\\" =\", forty_initial_max50.index.max())\n",
    "print(\"Peak Hospitalized =\", forty_initial_max50[\"maximum_hospitalized\"].max())\n",
    "print(\"Number Recovered =\", forty_initial_max50[\"number_recovered\"].max())"
   ]
  },
  {
   "cell_type": "markdown",
   "metadata": {},
   "source": [
    "## Drawing More Insight: # of Hospitalized on the way to the ideal headcount\n",
    "## In order to help the government plan better, we've visualized how the number of the hospitalized would fluctuate for the changes in head count"
   ]
  },
  {
   "cell_type": "code",
   "execution_count": 12,
   "metadata": {},
   "outputs": [
    {
     "data": {
      "text/plain": [
       "[<matplotlib.lines.Line2D at 0x10f588df0>]"
      ]
     },
     "execution_count": 12,
     "metadata": {},
     "output_type": "execute_result"
    },
    {
     "data": {
      "image/png": "[encoded data removed]",
      "text/plain": [
       "<Figure size 720x576 with 1 Axes>"
      ]
     },
     "metadata": {
      "needs_background": "light"
     },
     "output_type": "display_data"
    }
   ],
   "source": [
    "plt.figure(figsize=(10,8))\n",
    "plt.plot(two_initial_max50.maximum_hospitalized)\n",
    "plt.plot(twenty_initial_max50.maximum_hospitalized)\n",
    "plt.plot(forty_initial_max50.maximum_hospitalized)\n",
    "\n",
    "plt.xlabel(\"Head Count\")\n",
    "plt.ylabel(\"# Hospitalized\")\n",
    "plt.title(\"Hospitalized vs. Head Count \")\n",
    "\n",
    "plt.legend([\"Initial Infection = 2\", \"Initial Infection = 20\", \"Initial Infection = 40\"])\n",
    "plt.plot(46,two_initial_max50.maximum_hospitalized[46],'ro')\n",
    "plt.plot(17,twenty_initial_max50.maximum_hospitalized[17],'ro')\n",
    "plt.plot(7,forty_initial_max50.maximum_hospitalized[7],'ro')"
   ]
  },
  {
   "cell_type": "code",
   "execution_count": null,
   "metadata": {},
   "outputs": [],
   "source": []
  },
  {
   "cell_type": "markdown",
   "metadata": {},
   "source": [
    "## Drawing More Insight: Likelly Impact on the Economy due to the # of people quarantined\n",
    "## We've also visualized how the # of the quarantined would fluctuate for the changes in head count"
   ]
  },
  {
   "cell_type": "code",
   "execution_count": 13,
   "metadata": {},
   "outputs": [
    {
     "data": {
      "text/plain": [
       "[<matplotlib.lines.Line2D at 0x10f86e400>]"
      ]
     },
     "execution_count": 13,
     "metadata": {},
     "output_type": "execute_result"
    },
    {
     "data": {
      "image/png": "[encoded data removed]",
      "text/plain": [
       "<Figure size 720x576 with 1 Axes>"
      ]
     },
     "metadata": {
      "needs_background": "light"
     },
     "output_type": "display_data"
    }
   ],
   "source": [
    "plt.figure(figsize=(10,8))\n",
    "plt.plot(two_initial_max50.effected_by_closure)\n",
    "plt.plot(twenty_initial_max50.effected_by_closure)\n",
    "plt.plot(forty_initial_max50.effected_by_closure)\n",
    "\n",
    "plt.xlabel(\"Head Count\")\n",
    "plt.ylabel(\"# Quarantined\")\n",
    "plt.title(\"# Quarantined vs. Head Count \")\n",
    "\n",
    "plt.legend([\"Initial Infection = 2\", \"Initial Infection = 20\", \"Initial Infection = 40\"])\n",
    "plt.plot(46,two_initial_max50.effected_by_closure[46],'ro')\n",
    "plt.plot(17,twenty_initial_max50.effected_by_closure[17],'ro')\n",
    "plt.plot(7,forty_initial_max50.effected_by_closure[7],'ro')"
   ]
  }
 ],
 "metadata": {
  "kernelspec": {
   "display_name": "Python 3",
   "language": "python",
   "name": "python3"
  },
  "language_info": {
   "codemirror_mode": {
    "name": "ipython",
    "version": 3
   },
   "file_extension": ".py",
   "mimetype": "text/x-python",
   "name": "python",
   "nbconvert_exporter": "python",
   "pygments_lexer": "ipython3",
   "version": "3.8.1"
  }
 },
 "nbformat": 4,
 "nbformat_minor": 4
}
